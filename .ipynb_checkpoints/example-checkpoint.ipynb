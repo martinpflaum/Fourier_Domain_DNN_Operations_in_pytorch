{
 "cells": [
  {
   "cell_type": "code",
   "execution_count": 57,
   "metadata": {},
   "outputs": [
    {
     "name": "stdout",
     "output_type": "stream",
     "text": [
      "tensor([[[[ 1.4629, -1.6180,  0.5108],\n",
      "          [ 0.2024, -0.3528,  0.4240],\n",
      "          [ 1.0820,  1.0805, -0.9200]]]], grad_fn=<SliceBackward>)\n",
      "tensor([[[[ 1.4629, -1.6180,  0.5108],\n",
      "          [ 0.2024, -0.3528,  0.4240],\n",
      "          [ 1.0820,  1.0805, -0.9200]]]], grad_fn=<ThnnConv2DBackward>)\n"
     ]
    }
   ],
   "source": [
    "import torch\n",
    "from operations import FConv2d,FBatchnorm2d,img_to_spatial,\\\n",
    "img_to_freq,get_mean_var_fourier,get_mean_var\n",
    "\n",
    "conv = FConv2d(3,1,3,shift_output = False)\n",
    "x = torch.randn(1,3,5,5)\n",
    "x1 = x\n",
    "print(img_to_spatial(conv(img_to_freq(x)),kernel_size=3))\n",
    "print(conv.forward_correct(x1))\n"
   ]
  },
  {
   "cell_type": "code",
   "execution_count": 58,
   "metadata": {},
   "outputs": [
    {
     "name": "stdout",
     "output_type": "stream",
     "text": [
      "tensor([[[[ 0.5297, -2.8165,  2.5488,  0.3453, -3.7369],\n",
      "          [ 1.2941, -1.7941, -0.7160, -2.0340, -0.5189],\n",
      "          [-1.5670, -0.0219,  1.5823, -1.8955,  2.4711],\n",
      "          [-2.1797,  2.6697, -1.3972,  2.9924, -1.7464],\n",
      "          [ 0.9626, -1.1231, -2.4438,  1.8657, -2.4362]]]],\n",
      "       grad_fn=<CopySlices>)\n",
      "tensor([[[[ 0.5297, -2.8165,  2.5488,  0.3453, -3.7369],\n",
      "          [ 1.2941, -1.7941, -0.7160, -2.0340, -0.5189],\n",
      "          [-1.5670, -0.0219,  1.5823, -1.8955,  2.4711],\n",
      "          [-2.1797,  2.6697, -1.3972,  2.9924, -1.7464],\n",
      "          [ 0.9626, -1.1231, -2.4438,  1.8657, -2.4362]]]],\n",
      "       grad_fn=<MkldnnConvolutionBackward>)\n"
     ]
    }
   ],
   "source": [
    "conv = FConv2d(3,1,5,shift_output = True)\n",
    "x = torch.randn(1,3,5,5)\n",
    "x1 = torch.nn.functional.pad(input=x, pad=(2, 2, 2, 2), mode='circular')\n",
    "\n",
    "print(img_to_spatial(conv(img_to_freq(x))))\n",
    "print(conv.forward_correct(x1))"
   ]
  },
  {
   "cell_type": "code",
   "execution_count": 59,
   "metadata": {},
   "outputs": [
    {
     "name": "stdout",
     "output_type": "stream",
     "text": [
      "(tensor([ 0.1601,  0.0292, -0.0580], grad_fn=<MeanBackward1>), tensor([0.8371, 0.9074, 1.1191], grad_fn=<MeanBackward1>))\n",
      "(tensor([ 0.1583,  0.0292, -0.0594]), tensor([0.8054, 0.8868, 1.1536]))\n"
     ]
    }
   ],
   "source": [
    "batchnorm = FBatchnorm2d(channels=3)\n",
    "\n",
    "xorg = torch.randn(4,3,5,5)\n",
    "x = img_to_freq(xorg)\n",
    "y = batchnorm(x)\n",
    "\n",
    "print(get_mean_var_fourier(y))\n",
    "print(get_mean_var(xorg))"
   ]
  },
  {
   "cell_type": "code",
   "execution_count": null,
   "metadata": {},
   "outputs": [],
   "source": []
  },
  {
   "cell_type": "code",
   "execution_count": null,
   "metadata": {},
   "outputs": [],
   "source": []
  },
  {
   "cell_type": "code",
   "execution_count": null,
   "metadata": {},
   "outputs": [],
   "source": []
  }
 ],
 "metadata": {
  "kernelspec": {
   "display_name": "Python 3.7.6 64-bit ('base': conda)",
   "language": "python",
   "name": "python37664bitbasecondae9a6350484c749f7ada42529ac37648f"
  },
  "language_info": {
   "codemirror_mode": {
    "name": "ipython",
    "version": 3
   },
   "file_extension": ".py",
   "mimetype": "text/x-python",
   "name": "python",
   "nbconvert_exporter": "python",
   "pygments_lexer": "ipython3",
   "version": "3.7.6"
  }
 },
 "nbformat": 4,
 "nbformat_minor": 4
}
