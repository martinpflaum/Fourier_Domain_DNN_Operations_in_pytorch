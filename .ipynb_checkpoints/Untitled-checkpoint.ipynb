{
 "cells": [
  {
   "cell_type": "code",
   "execution_count": 4,
   "metadata": {},
   "outputs": [
    {
     "name": "stdout",
     "output_type": "stream",
     "text": [
      "tensor([[[[ 0.3612, -1.0213,  0.4220],\n",
      "          [-0.1874,  1.8377, -0.2602],\n",
      "          [-0.5985, -1.3716, -1.6749]]]], grad_fn=<SliceBackward>)\n",
      "tensor([[[[ 0.3612, -1.0213,  0.4220],\n",
      "          [-0.1874,  1.8377, -0.2602],\n",
      "          [-0.5985, -1.3716, -1.6749]]]], grad_fn=<ThnnConv2DBackward>)\n"
     ]
    }
   ],
   "source": [
    "import torch\n",
    "from operations import FConv2d,FBatchnorm2d,img_to_spatial,\\\n",
    "img_to_freq,get_mean_var_fourier,get_mean_var\n",
    "\n",
    "conv = FConv2d(3,1,3,shift_output = False)\n",
    "x = torch.randn(1,3,5,5)\n",
    "x1 = x\n",
    "print(img_to_spatial(conv(img_to_freq(x)),kernel_size=3))\n",
    "print(conv.forward_correct(x1))\n"
   ]
  },
  {
   "cell_type": "code",
   "execution_count": 5,
   "metadata": {},
   "outputs": [
    {
     "name": "stdout",
     "output_type": "stream",
     "text": [
      "tensor([[[[-0.4685, -2.6618,  1.7041, -0.4782,  0.6318],\n",
      "          [-0.0481, -0.3241, -1.2084, -0.8628, -1.0021],\n",
      "          [-1.7554,  3.0726, -0.5800, -1.3474,  0.8568],\n",
      "          [-1.3167,  0.2236, -0.3661,  1.4626,  0.2516],\n",
      "          [ 0.3841, -0.4748, -0.8782, -0.5414,  0.3193]]]],\n",
      "       grad_fn=<CopySlices>)\n",
      "tensor([[[[-0.4685, -2.6618,  1.7041, -0.4782,  0.6318],\n",
      "          [-0.0481, -0.3241, -1.2084, -0.8628, -1.0021],\n",
      "          [-1.7554,  3.0726, -0.5800, -1.3474,  0.8568],\n",
      "          [-1.3167,  0.2236, -0.3661,  1.4626,  0.2516],\n",
      "          [ 0.3841, -0.4748, -0.8782, -0.5414,  0.3193]]]],\n",
      "       grad_fn=<MkldnnConvolutionBackward>)\n"
     ]
    }
   ],
   "source": [
    "conv = FConv2d(3,1,5,shift_output = True)\n",
    "x = torch.randn(1,3,5,5)\n",
    "x1 = torch.nn.functional.pad(input=x, pad=(2, 2, 2, 2), mode='circular')\n",
    "\n",
    "print(img_to_spatial(conv(img_to_freq(x))))\n",
    "print(conv.forward_correct(x1))"
   ]
  },
  {
   "cell_type": "code",
   "execution_count": 6,
   "metadata": {},
   "outputs": [
    {
     "name": "stdout",
     "output_type": "stream",
     "text": [
      "(tensor([ 0.1065, -0.0381, -0.1054], grad_fn=<MeanBackward1>), tensor([0.9030, 0.7824, 0.9588], grad_fn=<MeanBackward1>))\n",
      "(tensor([ 0.1060, -0.0374, -0.1057]), tensor([0.8803, 0.7419, 0.9487]))\n"
     ]
    }
   ],
   "source": [
    "batchnorm = FBatchnorm2d(channels=3)\n",
    "\n",
    "xorg = torch.randn(4,3,5,5)\n",
    "x = img_to_freq(xorg)\n",
    "y = batchnorm(x)\n",
    "\n",
    "print(get_mean_var_fourier(y))\n",
    "print(get_mean_var(xorg))"
   ]
  },
  {
   "cell_type": "code",
   "execution_count": 20,
   "metadata": {},
   "outputs": [
    {
     "data": {
      "text/plain": [
       "[<matplotlib.lines.Line2D at 0x2515c968948>]"
      ]
     },
     "execution_count": 20,
     "metadata": {},
     "output_type": "execute_result"
    },
    {
     "data": {
      "image/png": "[encoded data removed]",
      "text/plain": [
       "<Figure size 432x288 with 1 Axes>"
      ]
     },
     "metadata": {
      "needs_background": "light"
     },
     "output_type": "display_data"
    }
   ],
   "source": [
    "\n",
    "\n",
    "import matplotlib.pyplot as plt\n",
    "import torch.nn as nn\n",
    "relu = nn.ReLU()\n",
    "\n",
    "xorg = torch.linspace(-5, 5,100)\n",
    "x=torch.fft.fft(xorg)\n",
    "y = relu(x.imag)+relu(x.real)\n",
    "y = torch.fft.ifft(y).real\n",
    "plt.plot(xorg,y)\n"
   ]
  },
  {
   "cell_type": "code",
   "execution_count": null,
   "metadata": {},
   "outputs": [],
   "source": []
  }
 ],
 "metadata": {
  "kernelspec": {
   "display_name": "Python 3.7.6 64-bit ('base': conda)",
   "language": "python",
   "name": "python37664bitbasecondae9a6350484c749f7ada42529ac37648f"
  },
  "language_info": {
   "codemirror_mode": {
    "name": "ipython",
    "version": 3
   },
   "file_extension": ".py",
   "mimetype": "text/x-python",
   "name": "python",
   "nbconvert_exporter": "python",
   "pygments_lexer": "ipython3",
   "version": "3.7.6"
  }
 },
 "nbformat": 4,
 "nbformat_minor": 4
}
